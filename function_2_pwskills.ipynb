{
 "cells": [
  {
   "cell_type": "markdown",
   "id": "570a12f3",
   "metadata": {},
   "source": [
    "#1. Create a python program to sort the given list of tuples based on integer value using a\n",
    "lambda function\n",
    "[('Sachin Tendulkar', 34357), ('Ricky Ponting', 27483), ('Jack Kallis', 25534), ('Virat Kohli', 24936)]"
   ]
  },
  {
   "cell_type": "code",
   "execution_count": 37,
   "id": "e21fbf06",
   "metadata": {},
   "outputs": [
    {
     "name": "stdout",
     "output_type": "stream",
     "text": [
      "[('Jack Kallis', 25534), ('Ricky Ponting', 27483), ('Sachin Tendulkar', 34357), ('Virat Kohli', 24936)]\n"
     ]
    }
   ],
   "source": [
    "a=[('Sachin Tendulkar', 34357), ('Ricky Ponting', 27483), ('Jack Kallis', 25534), ('Virat Kohli', 24936)]\n",
    "r=lambda l:sorted(l)\n",
    "print(sort(a))"
   ]
  },
  {
   "cell_type": "raw",
   "id": "554fb347",
   "metadata": {},
   "source": [
    "#Q2. Write a Python Program to find the squares of all the numbers in the given list of integers using\n",
    "lambda and map functions.\n",
    "\n",
    "\n",
    "[1, 2, 3, 4, 5, 6, 7, 8, 9, 10]\n"
   ]
  },
  {
   "cell_type": "code",
   "execution_count": 39,
   "id": "cd9fdd49",
   "metadata": {},
   "outputs": [
    {
     "name": "stdout",
     "output_type": "stream",
     "text": [
      "[1, 4, 9, 16, 25, 36, 49, 64, 81, 100]\n"
     ]
    }
   ],
   "source": [
    "# here first we assign list in a variable\n",
    "a=[1,2,3,4,5,6,7,8,9,10]\n",
    "# then using lambda with map\n",
    "square=map(lambda x:x*x,a) \n",
    "print(list(square))"
   ]
  },
  {
   "cell_type": "raw",
   "id": "ee751166",
   "metadata": {},
   "source": [
    "#Q3. Write a python program to convert the given list of integers into a tuple of strings. Use map and\n",
    "lambda functions\n",
    "\n",
    "\n",
    "Given String: [1, 2, 3, 4, 5, 6, 7, 8, 9, 10]\n",
    "\n",
    "Expected output: ('1', '2', '3', '4', '5', '6', '7', '8', '9', '10')"
   ]
  },
  {
   "cell_type": "code",
   "execution_count": 53,
   "id": "39553622",
   "metadata": {},
   "outputs": [
    {
     "name": "stdout",
     "output_type": "stream",
     "text": [
      "('1', '2', '3', '4', '5', '6', '7', '8', '9', '10')\n"
     ]
    }
   ],
   "source": [
    "\n",
    "a=[1,2,3,4,5,6,7,8,9,10]\n",
    "var=map(lambda x:str(x),a)\n",
    "# after expressio we change the type of list ,so currectly type is tuple\n",
    "print(tuple(var))"
   ]
  },
  {
   "cell_type": "markdown",
   "id": "22bc7eaf",
   "metadata": {},
   "source": [
    "Q4. Write a python program using reduce function to compute the product of a list containing numbers\n",
    "from 1 to 25\n"
   ]
  },
  {
   "cell_type": "code",
   "execution_count": 64,
   "id": "c2ed3ada",
   "metadata": {},
   "outputs": [
    {
     "name": "stdout",
     "output_type": "stream",
     "text": [
      "15511210043330985984000000\n"
     ]
    }
   ],
   "source": [
    "# first of all ,here i am using import lib for reduce , bcz without import lib, reduce will'n work\n",
    "from functools import reduce\n",
    "r=list(range(1,26)) \n",
    "# SECOND METHOD IS BELLOW DOWN ,If we don't want the range to be\n",
    "#r=[1,2,3,4,5,6,7,8,9,10,11,12,13,14,15,16,17,18,19,20,21,22,23,24,25]\n",
    "var1=reduce(lambda x,y:x*y,r)\n",
    "print(var1)"
   ]
  },
  {
   "cell_type": "raw",
   "id": "dc28bb44",
   "metadata": {},
   "source": [
    "Q5. Write a python program to filter the numbers in a given list that are divisible by 2 and 3 using the\n",
    "filter function.\n",
    "[2, 3, 6, 9, 27, 60, 90, 120, 55, 46]"
   ]
  },
  {
   "cell_type": "code",
   "execution_count": 67,
   "id": "d8bdfba6",
   "metadata": {},
   "outputs": [
    {
     "name": "stdout",
     "output_type": "stream",
     "text": [
      "[2, 3, 6, 9, 27, 60, 90, 120, 46]\n"
     ]
    }
   ],
   "source": [
    "a=[2,3,6,9,27,60,90,120,55,46]\n",
    "var2=filter(lambda x:x%2==0 or x%3==0,a)\n",
    "print(list(var2))\n",
    "# process of divisible by 2 and 3 --> first check (x=2),x%2==0 is or not. if is then print the item then as well next item will be checked ..........last items then print()"
   ]
  },
  {
   "cell_type": "raw",
   "id": "d2bd8b75",
   "metadata": {},
   "source": [
    "Q6. Write a python program to find palindromes in the given list of strings using lambda and filter\n",
    "function.\n",
    "\n",
    "\n",
    "['python', 'php', 'aba', 'radar', 'level']"
   ]
  },
  {
   "cell_type": "code",
   "execution_count": 72,
   "id": "5e0d90c6",
   "metadata": {},
   "outputs": [
    {
     "name": "stdout",
     "output_type": "stream",
     "text": [
      "['php', 'aba', 'radar', 'level']\n"
     ]
    }
   ],
   "source": [
    "a=['python', 'php', 'aba', 'radar', 'level']\n",
    "var3=filter(lambda x:x[::-1]==x,a)\n",
    "print(list(var3))"
   ]
  },
  {
   "cell_type": "raw",
   "id": "9e9c7663",
   "metadata": {},
   "source": [
    "# Assignment completed. These Assignments is of lambda and map and filter and reduce."
   ]
  }
 ],
 "metadata": {
  "kernelspec": {
   "display_name": "Python 3 (ipykernel)",
   "language": "python",
   "name": "python3"
  },
  "language_info": {
   "codemirror_mode": {
    "name": "ipython",
    "version": 3
   },
   "file_extension": ".py",
   "mimetype": "text/x-python",
   "name": "python",
   "nbconvert_exporter": "python",
   "pygments_lexer": "ipython3",
   "version": "3.9.13"
  },
  "widgets": {
   "application/vnd.jupyter.widget-state+json": {
    "state": {},
    "version_major": 2,
    "version_minor": 0
   }
  }
 },
 "nbformat": 4,
 "nbformat_minor": 5
}
